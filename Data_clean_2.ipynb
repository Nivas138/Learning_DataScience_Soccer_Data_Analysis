import sqlite3
import pandas as pds
import numpy as nump
from sklearn.cluster import KMeans
from sklearn.preprocessing import scale
from customplot import *


# Create your connection.
conn = sqlite3.connect('database.sqlite')
df = pds.read_sql_query("SELECT * FROM Player_Attributes", conn)

#df.columns

#df.describe().transpose()

df.isnull().any().any(),df.shape

df.isnull().sum(axis=0)