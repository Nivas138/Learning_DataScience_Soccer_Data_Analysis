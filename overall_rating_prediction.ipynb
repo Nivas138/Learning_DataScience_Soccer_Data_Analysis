import sqlite3
import pandas as pds
import numpy as nump
from sklearn.cluster import KMeans
from sklearn.preprocessing import scale
from customplot import *


# Create your connection.
conn = sqlite3.connect('database.sqlite')
df = pds.read_sql_query("SELECT * FROM Player_Attributes", conn)

#df.columns

#df.describe().transpose()

df.isnull().any().any(),df.shape

df.isnull().sum(axis=0)

#Take initial # of rows 
rows = df.shape[0]

#Drop the Null Rows
df=df.dropna()

#checking rows
print(rows)

#To find exactly how many lines we removed, we need to subtract the current number of rows in our data frame from the original number of rows.

rows-df.shape[0]

#shufling to display top rows in randomly at each time running.
df.reindex(nump.random.permutation(df.index))

#To display top 5 rows
df.head(5)

#To predict overall_rating attribute from 0 to 10 dataframe using pandas
df[:10][['penalties', 'overall_rating']]