import sqlite3
import pandas as pds
import numpy as nump
from sklearn.cluster import KMeans
from sklearn.preprocessing import scale
from customplot import *


# Create your connection.
conn = sqlite3.connect('database.sqlite')
df = pds.read_sql_query("SELECT * FROM Player_Attributes", conn)

#df.columns

#df.describe().transpose()

df.isnull().any().any(),df.shape

df.isnull().sum(axis=0)

#Take initial # of rows 
rows = df.shape[0]

#Drop the Null Rows
df=df.dropna()

#checking rows
print(rows)

#To find exactly how many lines we removed, we need to subtract the current number of rows in our data frame from the original number of rows.

rows-df.shape[0]

#shufling to display top rows in randomly at each time running.
df.reindex(nump.random.permutation(df.index))

#To display top 5 rows
df.head(5)

#To predict overall_rating attribute from 0 to 10 dataframe using pandas
df[:10][['penalties', 'overall_rating']]

#Pearson correlation analysis between two attributes/feature
df['penalties'].corr(df['overall_rating'])

#creating_list_of_attributes for further correlational analysis
potential_Attr = ['acceleration', 'curve', 'free_kick_accuracy', 'ball_control', 'shot_power', 'stamina']

# check how the features are correlated with the overall ratings
for attr in potential_Attr:
    relationship = df['overall_rating'].corr(df[attr])
    print("%s : %f" % (attr,relationship))

#DATA_VISUALIZATION
#For Plotting creating lists - list 'columns' for all attributes(columns) - list 'corelns' for all attributes in columns 
columns = ['potential',  'crossing', 'finishing', 'heading_accuracy',
       'short_passing', 'volleys', 'dribbling', 'curve', 'free_kick_accuracy',
       'long_passing', 'ball_control', 'acceleration', 'sprint_speed',
       'agility', 'reactions', 'balance', 'shot_power', 'jumping', 'stamina',
       'strength', 'long_shots', 'aggression', 'interceptions', 'positioning',
       'vision', 'penalties', 'marking', 'standing_tackle', 'sliding_tackle',
       'gk_diving', 'gk_handling', 'gk_kicking', 'gk_positioning',
       'gk_reflexes']
corelns=[df['overall_rating'].corr(df[attr]) for attr in columns]