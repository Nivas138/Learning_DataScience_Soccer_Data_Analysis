# Create your connection.
conn = sqlite3.connect('database.sqlite')
df = pds.read_sql_query("SELECT * FROM Player_Attributes", conn)